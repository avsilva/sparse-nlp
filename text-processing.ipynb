{
 "cells": [
  {
   "cell_type": "code",
   "execution_count": 1,
   "metadata": {
    "collapsed": false
   },
   "outputs": [],
   "source": [
    "import os, json\n",
    "import pandas as pd\n",
    "from sqlalchemy import create_engine\n",
    "from utils.database import process_file, insert_article, delete_articles"
   ]
  },
  {
   "cell_type": "markdown",
   "metadata": {},
   "source": [
    "<h3>Insert snippets into database</h3>"
   ]
  },
  {
   "cell_type": "code",
   "execution_count": 3,
   "metadata": {
    "collapsed": false
   },
   "outputs": [
    {
     "name": "stdout",
     "output_type": "stream",
     "text": [
      "0 articles processed\n",
      "5 articles processed\n",
      "DONE. 10 articles loaded \n"
     ]
    }
   ],
   "source": [
    "#set wikipedia folder where dump json files are located\n",
    "wikifiles = \"F:/RESEARCH/TESE/corpora/wikifiles/01012018/json\"\n",
    "os.chdir(wikifiles)\n",
    "\n",
    "#set conn string for postgresql database\n",
    "conn_string = \"dbname=sparsenlp user=postgres password=xxxxxxx\"\n",
    "\n",
    "#delete all articles from database\n",
    "delete_articles(conn_string)\n",
    "\n",
    "#n_articles = 60\n",
    "n_articles = 10\n",
    "i = 0\n",
    "for subdir, dirs, files in os.walk(wikifiles):\n",
    "    \n",
    "    for file in files:\n",
    "        \n",
    "        if i >= n_articles:\n",
    "            continue\n",
    "        elif i % 5 == 0:\n",
    "            print (str(i)+ ' articles processed')\n",
    "        #print (os.path.join(subdir, file))\n",
    "        filepath = subdir + os.sep + file\n",
    "        \n",
    "        with open(filepath, 'r', encoding='utf-8') as fh:\n",
    "            data=fh.readlines()\n",
    "            process_file(conn_string, data)\n",
    "        \n",
    "        i = i + 1\n",
    "        \n",
    "print (\"DONE. %s articles loaded \"% (i))"
   ]
  },
  {
   "cell_type": "markdown",
   "metadata": {},
   "source": [
    "<h3>Export snippets to csv file</h3>"
   ]
  },
  {
   "cell_type": "code",
   "execution_count": null,
   "metadata": {
    "collapsed": true
   },
   "outputs": [],
   "source": [
    "engine = create_engine('postgresql://postgres@localhost:5432/sparsenlp')\n",
    "text_length = 200\n",
    "sql = 'select a.id as curid, a.title, lower(b.text) as text from articles a, snippets b '\n",
    "sql += ' where a.id = b.article_id and length(b.text) > '+str(text_length)\n",
    "df = pd.read_sql_query(sql, con=engine)\n",
    "\n",
    "#print (df.shape)\n",
    "#print (df.head(5))\n",
    "df.to_csv('F:/RESEARCH/TESE/corpora/wikifiles/snippets.bz2', compression='bz2', encoding='utf-8', header=['curid','title','text'])"
   ]
  }
 ],
 "metadata": {
  "kernelspec": {
   "display_name": "Python 3",
   "language": "python",
   "name": "python3"
  },
  "language_info": {
   "codemirror_mode": {
    "name": "ipython",
    "version": 3
   },
   "file_extension": ".py",
   "mimetype": "text/x-python",
   "name": "python",
   "nbconvert_exporter": "python",
   "pygments_lexer": "ipython3",
   "version": "3.6.0"
  }
 },
 "nbformat": 4,
 "nbformat_minor": 2
}
